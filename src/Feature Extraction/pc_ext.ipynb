{
 "cells": [
  {
   "cell_type": "code",
   "execution_count": 29,
   "metadata": {},
   "outputs": [],
   "source": [
    "import open3d as o3d\n",
    "import numpy as np\n",
    "import pcl"
   ]
  },
  {
   "cell_type": "code",
   "execution_count": 30,
   "metadata": {},
   "outputs": [],
   "source": [
    "# .pcd 파일 경로 설정\n",
    "file_path = \"/media/rtlink/JetsonSSD-256/socap_dataset/pc/1026_1581624733.968697.pcd\""
   ]
  },
  {
   "cell_type": "code",
   "execution_count": 31,
   "metadata": {},
   "outputs": [],
   "source": [
    "# .pcd 파일에서 포인트 클라우드 읽기\n",
    "pcd = o3d.io.read_point_cloud(file_path)\n"
   ]
  },
  {
   "cell_type": "code",
   "execution_count": 32,
   "metadata": {},
   "outputs": [],
   "source": [
    "# Normal 벡터 추정\n",
    "pcd.estimate_normals(search_param=o3d.geometry.KDTreeSearchParamHybrid(radius=0.03, max_nn=30))"
   ]
  },
  {
   "cell_type": "code",
   "execution_count": 33,
   "metadata": {},
   "outputs": [],
   "source": [
    "# Moment of Inertia 계산\n",
    "cov = np.cov(np.asarray(pcd.points).T)\n",
    "evals, evecs = np.linalg.eigh(cov)\n",
    "radii = np.sqrt(evals)"
   ]
  },
  {
   "cell_type": "code",
   "execution_count": 34,
   "metadata": {},
   "outputs": [
    {
     "name": "stdout",
     "output_type": "stream",
     "text": [
      "Surface Roughness: 1.5741816365795016\n"
     ]
    }
   ],
   "source": [
    "# Surface Roughness 계산\n",
    "center = np.asarray(pcd.get_center())\n",
    "roughness = 0\n",
    "for i in range(len(pcd.points)):\n",
    "    point = np.asarray(pcd.points[i])\n",
    "    vec = point - center\n",
    "    dist = np.linalg.norm(np.dot(vec, evecs) / radii)\n",
    "    roughness += dist\n",
    "roughness /= len(pcd.points)\n",
    "\n",
    "# Surface Roughness 출력\n",
    "print(\"Surface Roughness:\", roughness)"
   ]
  },
  {
   "cell_type": "code",
   "execution_count": null,
   "metadata": {},
   "outputs": [],
   "source": []
  }
 ],
 "metadata": {
  "kernelspec": {
   "display_name": "base",
   "language": "python",
   "name": "python3"
  },
  "language_info": {
   "codemirror_mode": {
    "name": "ipython",
    "version": 3
   },
   "file_extension": ".py",
   "mimetype": "text/x-python",
   "name": "python",
   "nbconvert_exporter": "python",
   "pygments_lexer": "ipython3",
   "version": "3.10.9"
  },
  "orig_nbformat": 4,
  "vscode": {
   "interpreter": {
    "hash": "9f1d9702001e25c7065ee6a8b380fe317fe9087d0a7d921811a537e7661c0d00"
   }
  }
 },
 "nbformat": 4,
 "nbformat_minor": 2
}
